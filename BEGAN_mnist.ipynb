{
 "cells": [
  {
   "cell_type": "code",
   "execution_count": 58,
   "metadata": {},
   "outputs": [],
   "source": [
    "# https://github.com/wiseodd/generative-models/tree/master/GAN 참조\n",
    "import tensorflow as tf\n",
    "from tensorflow.examples.tutorials.mnist import input_data\n",
    "import numpy as np\n",
    "import matplotlib.pyplot as plt\n",
    "import matplotlib.gridspec as gridspec\n",
    "import os"
   ]
  },
  {
   "cell_type": "code",
   "execution_count": 69,
   "metadata": {},
   "outputs": [],
   "source": [
    "# 설정값들 선언\n",
    "b_size = 64 # batch size : 한번에 학습할 데이터 갯수\n",
    "X_dim = 784     # real image size 28 x 28\n",
    "z_dim = 64      # num_latent_variable\n",
    "h_dim = 128     # hidden layer dimension size\n",
    "lr =  1e-3       # learning rate\n",
    "m = 5\n",
    "lam = 1e-3      # lamda\n",
    "gamma = 0.5     # diversity ratio\n",
    "k_t = 0         # "
   ]
  },
  {
   "cell_type": "code",
   "execution_count": 70,
   "metadata": {},
   "outputs": [
    {
     "name": "stdout",
     "output_type": "stream",
     "text": [
      "Extracting data/mnist/train-images-idx3-ubyte.gz\n",
      "Extracting data/mnist/train-labels-idx1-ubyte.gz\n",
      "Extracting data/mnist/t10k-images-idx3-ubyte.gz\n",
      "Extracting data/mnist/t10k-labels-idx1-ubyte.gz\n"
     ]
    }
   ],
   "source": [
    "# MNIST 데이터 불러오기.\n",
    "mnist = input_data.read_data_sets('data/mnist', one_hot=True)"
   ]
  },
  {
   "cell_type": "code",
   "execution_count": 71,
   "metadata": {},
   "outputs": [],
   "source": [
    "# 생성된 MNIST 이미지를 4x4 Grid로 보여주는 plot 함수 정의\n",
    "def plot(samples):\n",
    "    fig = plt.figure(figsize=(4, 4))\n",
    "    gs = gridspec.GridSpec(4, 4)\n",
    "    gs.update(wspace=0.05, hspace=0.05)\n",
    "\n",
    "    for i, sample in enumerate(samples):\n",
    "        ax = plt.subplot(gs[i])\n",
    "        plt.axis('off')\n",
    "        ax.set_xticklabels([])\n",
    "        ax.set_yticklabels([])\n",
    "        ax.set_aspect('equal')\n",
    "        plt.imshow(sample.reshape(28, 28), cmap='Greys_r')\n",
    "\n",
    "    return fig"
   ]
  },
  {
   "cell_type": "code",
   "execution_count": 72,
   "metadata": {},
   "outputs": [],
   "source": [
    "# xavier initialization : weight 초기화 방법 중 하나.\n",
    "def xavier_init(size):\n",
    "    in_dim = size[0]\n",
    "    xavier_stddev = 1. / tf.sqrt(in_dim / 2.)\n",
    "    return tf.random_normal(shape=size, stddev=xavier_stddev)"
   ]
  },
  {
   "cell_type": "code",
   "execution_count": 73,
   "metadata": {},
   "outputs": [],
   "source": [
    "# Define placeholder \n",
    "\n",
    "X = tf.placeholder(tf.float32, shape=[None, X_dim]) # 실제 이미지 [60000, 784]\n",
    "z = tf.placeholder(tf.float32, shape=[None, z_dim]) # input Latent Variable\n",
    "k = tf.placeholder(tf.float32) # control value"
   ]
  },
  {
   "cell_type": "code",
   "execution_count": 74,
   "metadata": {},
   "outputs": [],
   "source": [
    "# Generator 변수 설정  \n",
    "# Hidden Layer parameter - weights & biases\n",
    "G_W1 = tf.Variable(xavier_init([z_dim, h_dim])) # h_dim (Hidden Node) = 128 , z_dim = noise vector\n",
    "G_b1 = tf.Variable(tf.zeros(shape=[h_dim]))\n",
    "\n",
    "# Output Layer parameter - weights & biases\n",
    "G_W2 = tf.Variable(xavier_init([h_dim, X_dim]))\n",
    "G_b2 = tf.Variable(tf.zeros(shape=[X_dim]))\n",
    "\n",
    "# Generator : Discriminator가 제대로 작동하지 않도록 실제 데이터와 유사한 가짜 데이터를 생성\n",
    "# noise 데이터(128)를 input으로 받아 output 이미지 (784)생성\n",
    "def G(z):\n",
    "    G_h1 = tf.nn.relu((tf.matmul(z, G_W1) + G_b1))\n",
    "    G_output = tf.nn.sigmoid(tf.matmul(G_h1, G_W2) + G_b2)   # output은 sigmoid(0~1사이)값\n",
    "    return G_output"
   ]
  },
  {
   "cell_type": "code",
   "execution_count": 75,
   "metadata": {},
   "outputs": [],
   "source": [
    "# Discriminator 변수 설정 \n",
    "# Hidden Layer parameter - weights & biases\n",
    "D_W1 = tf.Variable(xavier_init([X_dim, h_dim]))\n",
    "D_b1 = tf.Variable(tf.zeros(shape=[h_dim]))\n",
    "# Output Layer parameter - weights & biases\n",
    "D_W2 = tf.Variable(xavier_init([h_dim, X_dim]))\n",
    "D_b2 = tf.Variable(tf.zeros(shape=[X_dim]))\n",
    "\n",
    "# Discriminator : 실제 데이터와 생성된 가짜 데이터를 구별.\n",
    "def D(X):\n",
    "    D_h1 = tf.nn.relu(tf.matmul(X, D_W1) + D_b1) # 실제 이미지(X)가 input으로 들어감\n",
    "    X_recon = tf.matmul(D_h1, D_W2) + D_b2  #   X_recon : Discriminator가 판단한 True(1) or Fake(0)\n",
    "    return tf.reduce_mean(tf.reduce_sum((X - X_recon)**2, 1)) # discriminator의 최종 결과값은 얼마나 진짜와 가까운지를 판단. "
   ]
  },
  {
   "cell_type": "code",
   "execution_count": 76,
   "metadata": {},
   "outputs": [],
   "source": [
    "# make noise -> Latent Variable의 input으로 사용할 noise를 Uniform Distribution에서 batch_size만큼 샘플링\n",
    "def sample_z(m, n):\n",
    "    return np.random.uniform(-1., 1., size=[m, n])  # 균등 분포 -1과 1사이에 랜덤값 추출. size : 랜덥값 배열들을 저장할 행(m:Test Sample Size) 열(n:Noise Dimension) 크기"
   ]
  },
  {
   "cell_type": "code",
   "execution_count": 77,
   "metadata": {},
   "outputs": [],
   "source": [
    "# Generation, Loss, Optimization and Session Init.\n",
    "\n",
    "# noise를 입력받아 가짜 이미지 생성\n",
    "G_sample = G(z) \n",
    "\n",
    "# 진짜 이미지를 discriminator에 대입. \n",
    "D_real = D(X)  \n",
    "# Reconstruct the fake images\n",
    "D_fake = D(G_sample) \n",
    "\n",
    "# Discriminator/Generator loss \n",
    "\n",
    "D_loss = D_real - k*D_fake # D_loss : 얼마나 discriminator가 정확한가. \n",
    "G_loss = D_fake            # G_loss : 얼마나 D_fake가 진짜같은가\n",
    "\n",
    "# Discriminator/Generator Optimizer\n",
    "\n",
    "optim_D = (tf.train.AdamOptimizer(learning_rate=lr)\n",
    "            .minimize(D_loss, var_list=[D_W1, D_W2, D_b1, D_b2]))\n",
    "optim_G = (tf.train.AdamOptimizer(learning_rate=lr)\n",
    "            .minimize(G_loss, var_list=[G_W1, G_W2, G_b1, G_b2]))\n",
    "\n",
    "sess = tf.Session()\n",
    "sess.run(tf.global_variables_initializer()) # 변수 초기화"
   ]
  },
  {
   "cell_type": "markdown",
   "metadata": {},
   "source": [
    "<b><h2>Convergence measure</b></h2>\n",
    "\n",
    "BEGAN에서는 equilibrium 개념을 가지고 global measure of convergence 제시.<p>\n",
    "<img src=\"img/form2.png\">\n",
    "<h2><b>BEGAN의 objective function</b></h2><p>\n",
    "<img src=\"img/form3.png\">"
   ]
  },
  {
   "cell_type": "code",
   "execution_count": null,
   "metadata": {},
   "outputs": [
    {
     "name": "stdout",
     "output_type": "stream",
     "text": [
      "Epochs: 0 Loss D: 237.6646,Loss G: 532.2933, Convergence measure: 651.12563324\n"
     ]
    },
    {
     "data": {
      "image/png": "[encoded data removed]",
      "text/plain": [
       "<Figure size 288x288 with 16 Axes>"
      ]
     },
     "metadata": {
      "needs_background": "light"
     },
     "output_type": "display_data"
    }
   ],
   "source": [
    "# ********* Training and Testing\n",
    "if not os.path.exists('out/'):\n",
    "    os.makedirs('out/')  # make outputs folder\n",
    "\n",
    "i = 0\n",
    "num_epoch = 10000\n",
    "\n",
    "for epoch in range(num_epoch): # 10000 = Num. of Epoch\n",
    "    # MNIST 이미지를 batch_size만큼 불러온다. \n",
    "    batch_xs, _ = mnist.train.next_batch(b_size) \n",
    "\n",
    "    # Discriminator 최적화를 수행하고 Discriminator의 손실함수 return.\n",
    "    _, D_real_curr = sess.run(\n",
    "        [optim_D, D_real],\n",
    "        feed_dict={X: batch_xs, z:  sample_z(b_size, z_dim), k: k_t}) \n",
    "    \n",
    "    # Generator 최적화를 수행하고 Generator 손실함수 return.\n",
    "    _, D_fake_curr = sess.run(\n",
    "        [optim_G, D_fake],\n",
    "        feed_dict={X: batch_xs, z: sample_z(b_size, z_dim)})\n",
    "    \n",
    "    # For balancing generator & discriminator loss.  discriminator가 얼마나  fake images에 집중할 것인지 컨트롤. 매 batch마다 업데이트.\n",
    "    k_t = k_t + lam * (gamma*D_real_curr - D_fake_curr)   \n",
    "    \n",
    "    \n",
    "    if epoch % 1000 == 0: # 1000 = Saving period\n",
    "        # convergence measure\n",
    "        measure = D_real_curr + np.abs(gamma * D_real_curr - D_fake_curr)\n",
    "        # 1000번 반복할때마다 Discriminator의 손실함수와 Generator 손실함수 출력.\n",
    "        print (\"Epochs: %d Loss D: %.4f,Loss G: %.4f, Convergence measure: %.8f\" % (epoch, D_real_curr, D_fake_curr, measure))\n",
    "        \n",
    "        samples = sess.run(G_sample, feed_dict={z:  sample_z(16, z_dim)})\n",
    "        # 1000 epoch마다 image visulization\n",
    "        fig = plot(samples)\n",
    "        # 1000 epoch마다 생성되는 이미지를 out폴더에 저장\n",
    "        plt.savefig('out/{}.png'.format(str(epoch).zfill(3)), bbox_inches='tight')                \n",
    "        plt.show() \n",
    "        plt.close(fig)\n",
    "        "
   ]
  },
  {
   "cell_type": "code",
   "execution_count": null,
   "metadata": {},
   "outputs": [],
   "source": []
  }
 ],
 "metadata": {
  "kernelspec": {
   "display_name": "Python 3",
   "language": "python",
   "name": "python3"
  },
  "language_info": {
   "codemirror_mode": {
    "name": "ipython",
    "version": 3
   },
   "file_extension": ".py",
   "mimetype": "text/x-python",
   "name": "python",
   "nbconvert_exporter": "python",
   "pygments_lexer": "ipython3",
   "version": "3.5.2"
  }
 },
 "nbformat": 4,
 "nbformat_minor": 2
}
